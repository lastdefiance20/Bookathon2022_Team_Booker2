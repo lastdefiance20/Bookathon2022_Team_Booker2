{
 "cells": [
  {
   "cell_type": "code",
   "execution_count": null,
   "metadata": {
    "id": "7ZnGv3SzFchZ"
   },
   "outputs": [],
   "source": [
    "!pip install transformers==4.21.2\n",
    "!pip install sentencepiece\n",
    "!pip install torch_optimizer\n",
    "!pip install pytorch-lightning\n",
    "!pip install datasets\n",
    "!pip install evaluate\n",
    "!pip install wandb\n",
    "\n",
    "!wandb login df8cdd3f4ff34f32668158f84ae4a1ede7570a92"
   ]
  },
  {
   "cell_type": "code",
   "execution_count": 8,
   "metadata": {
    "id": "7Nyxy0PGFihc",
    "tags": []
   },
   "outputs": [
    {
     "name": "stdout",
     "output_type": "stream",
     "text": [
      "/root/anaconda3/envs/bkt/lib/python3.8/site-packages/pkg_resources/__init__.py:123: PkgResourcesDeprecationWarning: 0.996-ko-0.9.2 is an invalid version and will not be supported in a future release\n",
      "  warnings.warn(\n",
      "|train| = 1928 |valid| = 1\n",
      "#total_iters = 482 #warmup_iters = 0\n",
      "pretrained ! \n",
      "Traceback (most recent call last):\n",
      "  File \"train_cv.py\", line 146, in <module>\n",
      "    main(config)\n",
      "  File \"train_cv.py\", line 107, in main\n",
      "    model = Model(config)\n",
      "  File \"/workspace/experiment/utils_cv_.py\", line 35, in __init__\n",
      "    self.model.load_state_dict(torch.load(os.path.join(root), map_location='cuda:0')['model'].model)\n",
      "AttributeError: 'collections.OrderedDict' object has no attribute 'model'\n"
     ]
    }
   ],
   "source": [
    "import os\n",
    "os.environ['CUDA_LAUNCH_BLOCKING'] = '1'  \n",
    "\n",
    "!python3 train_cv.py --name skt_lr_2e_5_epochs_5_length_512 \\\n",
    "--model_fn model_save \\\n",
    "--train_data_name final \\\n",
    "--pretrained_model_name skt/ko-gpt-trinity-1.2B-v0.5 \\\n",
    "--decoder_lr 5e-5 \\\n",
    "--batch_size 1 \\\n",
    "--iteration_per_update 8 \\\n",
    "--max_length 512 \\\n",
    "--valid_fold 0 \\\n",
    "--n_epochs 2 \\\n",
    "--cosine \\\n",
    "--warmup_ratio 0 \\\n",
    "--additional_training"
   ]
  },
  {
   "cell_type": "code",
   "execution_count": null,
   "metadata": {
    "id": "blNz5kNXk6kF"
   },
   "outputs": [],
   "source": [
    "!pip install sentence_transformers\n",
    "!pip install kss\n",
    "\n",
    "from google.colab import drive\n",
    "drive.mount('/content/drive')\n",
    "%cd '/content/drive/MyDrive/Colab_Notebooks/NLP/Projects/AIxBookathon'\n",
    "\n",
    "!python3 SBERT_sentence.py"
   ]
  },
  {
   "cell_type": "code",
   "execution_count": 3,
   "metadata": {
    "id": "KAUa-Q7FoEGn"
   },
   "outputs": [
    {
     "name": "stdout",
     "output_type": "stream",
     "text": [
      "Requirement already satisfied: transformers==4.21.2 in /root/anaconda3/envs/bkt/lib/python3.8/site-packages (4.21.2)\n",
      "Requirement already satisfied: filelock in /root/anaconda3/envs/bkt/lib/python3.8/site-packages (from transformers==4.21.2) (3.9.0)\n",
      "Requirement already satisfied: numpy>=1.17 in /root/anaconda3/envs/bkt/lib/python3.8/site-packages (from transformers==4.21.2) (1.24.1)\n",
      "Requirement already satisfied: packaging>=20.0 in /root/anaconda3/envs/bkt/lib/python3.8/site-packages (from transformers==4.21.2) (23.0)\n",
      "Requirement already satisfied: tokenizers!=0.11.3,<0.13,>=0.11.1 in /root/anaconda3/envs/bkt/lib/python3.8/site-packages (from transformers==4.21.2) (0.12.1)\n",
      "Requirement already satisfied: regex!=2019.12.17 in /root/anaconda3/envs/bkt/lib/python3.8/site-packages (from transformers==4.21.2) (2022.10.31)\n",
      "Requirement already satisfied: tqdm>=4.27 in /root/anaconda3/envs/bkt/lib/python3.8/site-packages (from transformers==4.21.2) (4.64.1)\n",
      "Requirement already satisfied: requests in /root/anaconda3/envs/bkt/lib/python3.8/site-packages (from transformers==4.21.2) (2.28.1)\n",
      "Requirement already satisfied: pyyaml>=5.1 in /root/anaconda3/envs/bkt/lib/python3.8/site-packages (from transformers==4.21.2) (6.0)\n",
      "Requirement already satisfied: huggingface-hub<1.0,>=0.1.0 in /root/anaconda3/envs/bkt/lib/python3.8/site-packages (from transformers==4.21.2) (0.11.1)\n",
      "Requirement already satisfied: typing-extensions>=3.7.4.3 in /root/anaconda3/envs/bkt/lib/python3.8/site-packages (from huggingface-hub<1.0,>=0.1.0->transformers==4.21.2) (4.4.0)\n",
      "Requirement already satisfied: urllib3<1.27,>=1.21.1 in /root/anaconda3/envs/bkt/lib/python3.8/site-packages (from requests->transformers==4.21.2) (1.26.14)\n",
      "Requirement already satisfied: charset-normalizer<3,>=2 in /root/anaconda3/envs/bkt/lib/python3.8/site-packages (from requests->transformers==4.21.2) (2.1.1)\n",
      "Requirement already satisfied: certifi>=2017.4.17 in /root/anaconda3/envs/bkt/lib/python3.8/site-packages (from requests->transformers==4.21.2) (2022.12.7)\n",
      "Requirement already satisfied: idna<4,>=2.5 in /root/anaconda3/envs/bkt/lib/python3.8/site-packages (from requests->transformers==4.21.2) (3.4)\n",
      "\u001b[33mWARNING: Running pip as the 'root' user can result in broken permissions and conflicting behaviour with the system package manager. It is recommended to use a virtual environment instead: https://pip.pypa.io/warnings/venv\u001b[0m\u001b[33m\n",
      "\u001b[0mRequirement already satisfied: kss in /root/anaconda3/envs/bkt/lib/python3.8/site-packages (4.4.0)\n",
      "Requirement already satisfied: pecab in /root/anaconda3/envs/bkt/lib/python3.8/site-packages (from kss) (1.0.8)\n",
      "Requirement already satisfied: networkx in /root/anaconda3/envs/bkt/lib/python3.8/site-packages (from kss) (3.0)\n",
      "Requirement already satisfied: emoji==1.2.0 in /root/anaconda3/envs/bkt/lib/python3.8/site-packages (from kss) (1.2.0)\n",
      "Requirement already satisfied: regex in /root/anaconda3/envs/bkt/lib/python3.8/site-packages (from kss) (2022.10.31)\n",
      "Requirement already satisfied: pyarrow in /root/anaconda3/envs/bkt/lib/python3.8/site-packages (from pecab->kss) (10.0.1)\n",
      "Requirement already satisfied: pytest in /root/anaconda3/envs/bkt/lib/python3.8/site-packages (from pecab->kss) (7.2.1)\n",
      "Requirement already satisfied: numpy in /root/anaconda3/envs/bkt/lib/python3.8/site-packages (from pecab->kss) (1.24.1)\n",
      "Requirement already satisfied: exceptiongroup>=1.0.0rc8 in /root/anaconda3/envs/bkt/lib/python3.8/site-packages (from pytest->pecab->kss) (1.1.0)\n",
      "Requirement already satisfied: iniconfig in /root/anaconda3/envs/bkt/lib/python3.8/site-packages (from pytest->pecab->kss) (2.0.0)\n",
      "Requirement already satisfied: pluggy<2.0,>=0.12 in /root/anaconda3/envs/bkt/lib/python3.8/site-packages (from pytest->pecab->kss) (1.0.0)\n",
      "Requirement already satisfied: packaging in /root/anaconda3/envs/bkt/lib/python3.8/site-packages (from pytest->pecab->kss) (23.0)\n",
      "Requirement already satisfied: attrs>=19.2.0 in /root/anaconda3/envs/bkt/lib/python3.8/site-packages (from pytest->pecab->kss) (22.2.0)\n",
      "Requirement already satisfied: tomli>=1.0.0 in /root/anaconda3/envs/bkt/lib/python3.8/site-packages (from pytest->pecab->kss) (2.0.1)\n",
      "\u001b[33mWARNING: Running pip as the 'root' user can result in broken permissions and conflicting behaviour with the system package manager. It is recommended to use a virtual environment instead: https://pip.pypa.io/warnings/venv\u001b[0m\u001b[33m\n",
      "\u001b[0mRequirement already satisfied: sentencepiece in /root/anaconda3/envs/bkt/lib/python3.8/site-packages (0.1.97)\n",
      "\u001b[33mWARNING: Running pip as the 'root' user can result in broken permissions and conflicting behaviour with the system package manager. It is recommended to use a virtual environment instead: https://pip.pypa.io/warnings/venv\u001b[0m\u001b[33m\n",
      "\u001b[0mRequirement already satisfied: torch_optimizer in /root/anaconda3/envs/bkt/lib/python3.8/site-packages (0.3.0)\n",
      "Requirement already satisfied: torch>=1.5.0 in /root/anaconda3/envs/bkt/lib/python3.8/site-packages (from torch_optimizer) (1.13.1)\n",
      "Requirement already satisfied: pytorch-ranger>=0.1.1 in /root/anaconda3/envs/bkt/lib/python3.8/site-packages (from torch_optimizer) (0.1.1)\n",
      "Requirement already satisfied: nvidia-cudnn-cu11==8.5.0.96 in /root/anaconda3/envs/bkt/lib/python3.8/site-packages (from torch>=1.5.0->torch_optimizer) (8.5.0.96)\n",
      "Requirement already satisfied: nvidia-cuda-runtime-cu11==11.7.99 in /root/anaconda3/envs/bkt/lib/python3.8/site-packages (from torch>=1.5.0->torch_optimizer) (11.7.99)\n",
      "Requirement already satisfied: nvidia-cuda-nvrtc-cu11==11.7.99 in /root/anaconda3/envs/bkt/lib/python3.8/site-packages (from torch>=1.5.0->torch_optimizer) (11.7.99)\n",
      "Requirement already satisfied: typing-extensions in /root/anaconda3/envs/bkt/lib/python3.8/site-packages (from torch>=1.5.0->torch_optimizer) (4.4.0)\n",
      "Requirement already satisfied: nvidia-cublas-cu11==11.10.3.66 in /root/anaconda3/envs/bkt/lib/python3.8/site-packages (from torch>=1.5.0->torch_optimizer) (11.10.3.66)\n",
      "Requirement already satisfied: wheel in /root/anaconda3/envs/bkt/lib/python3.8/site-packages (from nvidia-cublas-cu11==11.10.3.66->torch>=1.5.0->torch_optimizer) (0.38.4)\n",
      "Requirement already satisfied: setuptools in /root/anaconda3/envs/bkt/lib/python3.8/site-packages (from nvidia-cublas-cu11==11.10.3.66->torch>=1.5.0->torch_optimizer) (65.6.3)\n",
      "\u001b[33mWARNING: Running pip as the 'root' user can result in broken permissions and conflicting behaviour with the system package manager. It is recommended to use a virtual environment instead: https://pip.pypa.io/warnings/venv\u001b[0m\u001b[33m\n",
      "\u001b[0mRequirement already satisfied: pytorch-lightning in /root/anaconda3/envs/bkt/lib/python3.8/site-packages (1.8.6)\n",
      "Requirement already satisfied: torchmetrics>=0.7.0 in /root/anaconda3/envs/bkt/lib/python3.8/site-packages (from pytorch-lightning) (0.11.0)\n",
      "Requirement already satisfied: numpy>=1.17.2 in /root/anaconda3/envs/bkt/lib/python3.8/site-packages (from pytorch-lightning) (1.24.1)\n",
      "Requirement already satisfied: tensorboardX>=2.2 in /root/anaconda3/envs/bkt/lib/python3.8/site-packages (from pytorch-lightning) (2.5.1)\n",
      "Requirement already satisfied: tqdm>=4.57.0 in /root/anaconda3/envs/bkt/lib/python3.8/site-packages (from pytorch-lightning) (4.64.1)\n",
      "Requirement already satisfied: torch>=1.9.0 in /root/anaconda3/envs/bkt/lib/python3.8/site-packages (from pytorch-lightning) (1.13.1)\n",
      "Requirement already satisfied: packaging>=17.0 in /root/anaconda3/envs/bkt/lib/python3.8/site-packages (from pytorch-lightning) (23.0)\n",
      "Requirement already satisfied: fsspec[http]>2021.06.0 in /root/anaconda3/envs/bkt/lib/python3.8/site-packages (from pytorch-lightning) (2022.11.0)\n",
      "Requirement already satisfied: typing-extensions>=4.0.0 in /root/anaconda3/envs/bkt/lib/python3.8/site-packages (from pytorch-lightning) (4.4.0)\n",
      "Requirement already satisfied: lightning-utilities!=0.4.0,>=0.3.0 in /root/anaconda3/envs/bkt/lib/python3.8/site-packages (from pytorch-lightning) (0.5.0)\n",
      "Requirement already satisfied: PyYAML>=5.4 in /root/anaconda3/envs/bkt/lib/python3.8/site-packages (from pytorch-lightning) (6.0)\n",
      "Requirement already satisfied: aiohttp!=4.0.0a0,!=4.0.0a1 in /root/anaconda3/envs/bkt/lib/python3.8/site-packages (from fsspec[http]>2021.06.0->pytorch-lightning) (3.8.3)\n",
      "Requirement already satisfied: requests in /root/anaconda3/envs/bkt/lib/python3.8/site-packages (from fsspec[http]>2021.06.0->pytorch-lightning) (2.28.1)\n",
      "Requirement already satisfied: protobuf<=3.20.1,>=3.8.0 in /root/anaconda3/envs/bkt/lib/python3.8/site-packages (from tensorboardX>=2.2->pytorch-lightning) (3.20.1)\n",
      "Requirement already satisfied: nvidia-cuda-nvrtc-cu11==11.7.99 in /root/anaconda3/envs/bkt/lib/python3.8/site-packages (from torch>=1.9.0->pytorch-lightning) (11.7.99)\n",
      "Requirement already satisfied: nvidia-cudnn-cu11==8.5.0.96 in /root/anaconda3/envs/bkt/lib/python3.8/site-packages (from torch>=1.9.0->pytorch-lightning) (8.5.0.96)\n",
      "Requirement already satisfied: nvidia-cublas-cu11==11.10.3.66 in /root/anaconda3/envs/bkt/lib/python3.8/site-packages (from torch>=1.9.0->pytorch-lightning) (11.10.3.66)\n",
      "Requirement already satisfied: nvidia-cuda-runtime-cu11==11.7.99 in /root/anaconda3/envs/bkt/lib/python3.8/site-packages (from torch>=1.9.0->pytorch-lightning) (11.7.99)\n",
      "Requirement already satisfied: setuptools in /root/anaconda3/envs/bkt/lib/python3.8/site-packages (from nvidia-cublas-cu11==11.10.3.66->torch>=1.9.0->pytorch-lightning) (65.6.3)\n",
      "Requirement already satisfied: wheel in /root/anaconda3/envs/bkt/lib/python3.8/site-packages (from nvidia-cublas-cu11==11.10.3.66->torch>=1.9.0->pytorch-lightning) (0.38.4)\n",
      "Requirement already satisfied: multidict<7.0,>=4.5 in /root/anaconda3/envs/bkt/lib/python3.8/site-packages (from aiohttp!=4.0.0a0,!=4.0.0a1->fsspec[http]>2021.06.0->pytorch-lightning) (6.0.4)\n",
      "Requirement already satisfied: async-timeout<5.0,>=4.0.0a3 in /root/anaconda3/envs/bkt/lib/python3.8/site-packages (from aiohttp!=4.0.0a0,!=4.0.0a1->fsspec[http]>2021.06.0->pytorch-lightning) (4.0.2)\n",
      "Requirement already satisfied: aiosignal>=1.1.2 in /root/anaconda3/envs/bkt/lib/python3.8/site-packages (from aiohttp!=4.0.0a0,!=4.0.0a1->fsspec[http]>2021.06.0->pytorch-lightning) (1.3.1)\n",
      "Requirement already satisfied: yarl<2.0,>=1.0 in /root/anaconda3/envs/bkt/lib/python3.8/site-packages (from aiohttp!=4.0.0a0,!=4.0.0a1->fsspec[http]>2021.06.0->pytorch-lightning) (1.8.2)\n",
      "Requirement already satisfied: attrs>=17.3.0 in /root/anaconda3/envs/bkt/lib/python3.8/site-packages (from aiohttp!=4.0.0a0,!=4.0.0a1->fsspec[http]>2021.06.0->pytorch-lightning) (22.2.0)\n",
      "Requirement already satisfied: frozenlist>=1.1.1 in /root/anaconda3/envs/bkt/lib/python3.8/site-packages (from aiohttp!=4.0.0a0,!=4.0.0a1->fsspec[http]>2021.06.0->pytorch-lightning) (1.3.3)\n",
      "Requirement already satisfied: charset-normalizer<3.0,>=2.0 in /root/anaconda3/envs/bkt/lib/python3.8/site-packages (from aiohttp!=4.0.0a0,!=4.0.0a1->fsspec[http]>2021.06.0->pytorch-lightning) (2.1.1)\n",
      "Requirement already satisfied: idna<4,>=2.5 in /root/anaconda3/envs/bkt/lib/python3.8/site-packages (from requests->fsspec[http]>2021.06.0->pytorch-lightning) (3.4)\n",
      "Requirement already satisfied: certifi>=2017.4.17 in /root/anaconda3/envs/bkt/lib/python3.8/site-packages (from requests->fsspec[http]>2021.06.0->pytorch-lightning) (2022.12.7)\n",
      "Requirement already satisfied: urllib3<1.27,>=1.21.1 in /root/anaconda3/envs/bkt/lib/python3.8/site-packages (from requests->fsspec[http]>2021.06.0->pytorch-lightning) (1.26.14)\n",
      "\u001b[33mWARNING: Running pip as the 'root' user can result in broken permissions and conflicting behaviour with the system package manager. It is recommended to use a virtual environment instead: https://pip.pypa.io/warnings/venv\u001b[0m\u001b[33m\n",
      "\u001b[0mRequirement already satisfied: datasets in /root/anaconda3/envs/bkt/lib/python3.8/site-packages (2.8.0)\n",
      "Requirement already satisfied: pyyaml>=5.1 in /root/anaconda3/envs/bkt/lib/python3.8/site-packages (from datasets) (6.0)\n",
      "Requirement already satisfied: numpy>=1.17 in /root/anaconda3/envs/bkt/lib/python3.8/site-packages (from datasets) (1.24.1)\n",
      "Requirement already satisfied: pandas in /root/anaconda3/envs/bkt/lib/python3.8/site-packages (from datasets) (1.5.2)\n",
      "Requirement already satisfied: xxhash in /root/anaconda3/envs/bkt/lib/python3.8/site-packages (from datasets) (3.2.0)\n",
      "Requirement already satisfied: dill<0.3.7 in /root/anaconda3/envs/bkt/lib/python3.8/site-packages (from datasets) (0.3.6)\n",
      "Requirement already satisfied: pyarrow>=6.0.0 in /root/anaconda3/envs/bkt/lib/python3.8/site-packages (from datasets) (10.0.1)\n",
      "Requirement already satisfied: tqdm>=4.62.1 in /root/anaconda3/envs/bkt/lib/python3.8/site-packages (from datasets) (4.64.1)\n",
      "Requirement already satisfied: huggingface-hub<1.0.0,>=0.2.0 in /root/anaconda3/envs/bkt/lib/python3.8/site-packages (from datasets) (0.11.1)\n",
      "Requirement already satisfied: requests>=2.19.0 in /root/anaconda3/envs/bkt/lib/python3.8/site-packages (from datasets) (2.28.1)\n",
      "Requirement already satisfied: packaging in /root/anaconda3/envs/bkt/lib/python3.8/site-packages (from datasets) (23.0)\n",
      "Requirement already satisfied: multiprocess in /root/anaconda3/envs/bkt/lib/python3.8/site-packages (from datasets) (0.70.14)\n",
      "Requirement already satisfied: responses<0.19 in /root/anaconda3/envs/bkt/lib/python3.8/site-packages (from datasets) (0.18.0)\n",
      "Requirement already satisfied: aiohttp in /root/anaconda3/envs/bkt/lib/python3.8/site-packages (from datasets) (3.8.3)\n",
      "Requirement already satisfied: fsspec[http]>=2021.11.1 in /root/anaconda3/envs/bkt/lib/python3.8/site-packages (from datasets) (2022.11.0)\n",
      "Requirement already satisfied: aiosignal>=1.1.2 in /root/anaconda3/envs/bkt/lib/python3.8/site-packages (from aiohttp->datasets) (1.3.1)\n",
      "Requirement already satisfied: attrs>=17.3.0 in /root/anaconda3/envs/bkt/lib/python3.8/site-packages (from aiohttp->datasets) (22.2.0)\n",
      "Requirement already satisfied: charset-normalizer<3.0,>=2.0 in /root/anaconda3/envs/bkt/lib/python3.8/site-packages (from aiohttp->datasets) (2.1.1)\n",
      "Requirement already satisfied: frozenlist>=1.1.1 in /root/anaconda3/envs/bkt/lib/python3.8/site-packages (from aiohttp->datasets) (1.3.3)\n",
      "Requirement already satisfied: multidict<7.0,>=4.5 in /root/anaconda3/envs/bkt/lib/python3.8/site-packages (from aiohttp->datasets) (6.0.4)\n",
      "Requirement already satisfied: async-timeout<5.0,>=4.0.0a3 in /root/anaconda3/envs/bkt/lib/python3.8/site-packages (from aiohttp->datasets) (4.0.2)\n",
      "Requirement already satisfied: yarl<2.0,>=1.0 in /root/anaconda3/envs/bkt/lib/python3.8/site-packages (from aiohttp->datasets) (1.8.2)\n",
      "Requirement already satisfied: filelock in /root/anaconda3/envs/bkt/lib/python3.8/site-packages (from huggingface-hub<1.0.0,>=0.2.0->datasets) (3.9.0)\n",
      "Requirement already satisfied: typing-extensions>=3.7.4.3 in /root/anaconda3/envs/bkt/lib/python3.8/site-packages (from huggingface-hub<1.0.0,>=0.2.0->datasets) (4.4.0)\n",
      "Requirement already satisfied: certifi>=2017.4.17 in /root/anaconda3/envs/bkt/lib/python3.8/site-packages (from requests>=2.19.0->datasets) (2022.12.7)\n",
      "Requirement already satisfied: urllib3<1.27,>=1.21.1 in /root/anaconda3/envs/bkt/lib/python3.8/site-packages (from requests>=2.19.0->datasets) (1.26.14)\n",
      "Requirement already satisfied: idna<4,>=2.5 in /root/anaconda3/envs/bkt/lib/python3.8/site-packages (from requests>=2.19.0->datasets) (3.4)\n",
      "Requirement already satisfied: pytz>=2020.1 in /root/anaconda3/envs/bkt/lib/python3.8/site-packages (from pandas->datasets) (2022.7)\n",
      "Requirement already satisfied: python-dateutil>=2.8.1 in /root/anaconda3/envs/bkt/lib/python3.8/site-packages (from pandas->datasets) (2.8.2)\n",
      "Requirement already satisfied: six>=1.5 in /root/anaconda3/envs/bkt/lib/python3.8/site-packages (from python-dateutil>=2.8.1->pandas->datasets) (1.16.0)\n",
      "\u001b[33mWARNING: Running pip as the 'root' user can result in broken permissions and conflicting behaviour with the system package manager. It is recommended to use a virtual environment instead: https://pip.pypa.io/warnings/venv\u001b[0m\u001b[33m\n",
      "\u001b[0mRequirement already satisfied: evaluate in /root/anaconda3/envs/bkt/lib/python3.8/site-packages (0.4.0)\n",
      "Requirement already satisfied: tqdm>=4.62.1 in /root/anaconda3/envs/bkt/lib/python3.8/site-packages (from evaluate) (4.64.1)\n",
      "Requirement already satisfied: fsspec[http]>=2021.05.0 in /root/anaconda3/envs/bkt/lib/python3.8/site-packages (from evaluate) (2022.11.0)\n",
      "Requirement already satisfied: datasets>=2.0.0 in /root/anaconda3/envs/bkt/lib/python3.8/site-packages (from evaluate) (2.8.0)\n",
      "Requirement already satisfied: pandas in /root/anaconda3/envs/bkt/lib/python3.8/site-packages (from evaluate) (1.5.2)\n",
      "Requirement already satisfied: requests>=2.19.0 in /root/anaconda3/envs/bkt/lib/python3.8/site-packages (from evaluate) (2.28.1)\n",
      "Requirement already satisfied: dill in /root/anaconda3/envs/bkt/lib/python3.8/site-packages (from evaluate) (0.3.6)\n",
      "Requirement already satisfied: responses<0.19 in /root/anaconda3/envs/bkt/lib/python3.8/site-packages (from evaluate) (0.18.0)\n",
      "Requirement already satisfied: packaging in /root/anaconda3/envs/bkt/lib/python3.8/site-packages (from evaluate) (23.0)\n",
      "Requirement already satisfied: multiprocess in /root/anaconda3/envs/bkt/lib/python3.8/site-packages (from evaluate) (0.70.14)\n",
      "Requirement already satisfied: huggingface-hub>=0.7.0 in /root/anaconda3/envs/bkt/lib/python3.8/site-packages (from evaluate) (0.11.1)\n",
      "Requirement already satisfied: xxhash in /root/anaconda3/envs/bkt/lib/python3.8/site-packages (from evaluate) (3.2.0)\n",
      "Requirement already satisfied: numpy>=1.17 in /root/anaconda3/envs/bkt/lib/python3.8/site-packages (from evaluate) (1.24.1)\n",
      "Requirement already satisfied: aiohttp in /root/anaconda3/envs/bkt/lib/python3.8/site-packages (from datasets>=2.0.0->evaluate) (3.8.3)\n",
      "Requirement already satisfied: pyyaml>=5.1 in /root/anaconda3/envs/bkt/lib/python3.8/site-packages (from datasets>=2.0.0->evaluate) (6.0)\n",
      "Requirement already satisfied: pyarrow>=6.0.0 in /root/anaconda3/envs/bkt/lib/python3.8/site-packages (from datasets>=2.0.0->evaluate) (10.0.1)\n",
      "Requirement already satisfied: filelock in /root/anaconda3/envs/bkt/lib/python3.8/site-packages (from huggingface-hub>=0.7.0->evaluate) (3.9.0)\n",
      "Requirement already satisfied: typing-extensions>=3.7.4.3 in /root/anaconda3/envs/bkt/lib/python3.8/site-packages (from huggingface-hub>=0.7.0->evaluate) (4.4.0)\n",
      "Requirement already satisfied: urllib3<1.27,>=1.21.1 in /root/anaconda3/envs/bkt/lib/python3.8/site-packages (from requests>=2.19.0->evaluate) (1.26.14)\n",
      "Requirement already satisfied: certifi>=2017.4.17 in /root/anaconda3/envs/bkt/lib/python3.8/site-packages (from requests>=2.19.0->evaluate) (2022.12.7)\n",
      "Requirement already satisfied: idna<4,>=2.5 in /root/anaconda3/envs/bkt/lib/python3.8/site-packages (from requests>=2.19.0->evaluate) (3.4)\n",
      "Requirement already satisfied: charset-normalizer<3,>=2 in /root/anaconda3/envs/bkt/lib/python3.8/site-packages (from requests>=2.19.0->evaluate) (2.1.1)\n",
      "Requirement already satisfied: pytz>=2020.1 in /root/anaconda3/envs/bkt/lib/python3.8/site-packages (from pandas->evaluate) (2022.7)\n",
      "Requirement already satisfied: python-dateutil>=2.8.1 in /root/anaconda3/envs/bkt/lib/python3.8/site-packages (from pandas->evaluate) (2.8.2)\n",
      "Requirement already satisfied: frozenlist>=1.1.1 in /root/anaconda3/envs/bkt/lib/python3.8/site-packages (from aiohttp->datasets>=2.0.0->evaluate) (1.3.3)\n",
      "Requirement already satisfied: aiosignal>=1.1.2 in /root/anaconda3/envs/bkt/lib/python3.8/site-packages (from aiohttp->datasets>=2.0.0->evaluate) (1.3.1)\n",
      "Requirement already satisfied: attrs>=17.3.0 in /root/anaconda3/envs/bkt/lib/python3.8/site-packages (from aiohttp->datasets>=2.0.0->evaluate) (22.2.0)\n",
      "Requirement already satisfied: multidict<7.0,>=4.5 in /root/anaconda3/envs/bkt/lib/python3.8/site-packages (from aiohttp->datasets>=2.0.0->evaluate) (6.0.4)\n",
      "Requirement already satisfied: async-timeout<5.0,>=4.0.0a3 in /root/anaconda3/envs/bkt/lib/python3.8/site-packages (from aiohttp->datasets>=2.0.0->evaluate) (4.0.2)\n",
      "Requirement already satisfied: yarl<2.0,>=1.0 in /root/anaconda3/envs/bkt/lib/python3.8/site-packages (from aiohttp->datasets>=2.0.0->evaluate) (1.8.2)\n",
      "Requirement already satisfied: six>=1.5 in /root/anaconda3/envs/bkt/lib/python3.8/site-packages (from python-dateutil>=2.8.1->pandas->evaluate) (1.16.0)\n",
      "\u001b[33mWARNING: Running pip as the 'root' user can result in broken permissions and conflicting behaviour with the system package manager. It is recommended to use a virtual environment instead: https://pip.pypa.io/warnings/venv\u001b[0m\u001b[33m\n",
      "\u001b[0m"
     ]
    }
   ],
   "source": [
    "!pip install transformers==4.21.2\n",
    "!pip install kss\n",
    "!pip install sentencepiece\n",
    "!pip install torch_optimizer\n",
    "!pip install pytorch-lightning\n",
    "!pip install datasets\n",
    "!pip install evaluate\n",
    "\n"
   ]
  },
  {
   "cell_type": "code",
   "execution_count": null,
   "metadata": {
    "id": "y3HOkI8OxLGb"
   },
   "outputs": [],
   "source": [
    "!python3 active_prediction.py --fine_tune --name 'skt_lr_2e_5_epochs_5_length_512' --prompt '나는 내 마음대로 쓸 수 있는 돈이 한 오만원쯤 생기는 생활을 사랑한다.'"
   ]
  },
  {
   "cell_type": "code",
   "execution_count": null,
   "metadata": {},
   "outputs": [],
   "source": []
  }
 ],
 "metadata": {
  "accelerator": "GPU",
  "colab": {
   "authorship_tag": "ABX9TyNRO9gzx2b4Wix9POiUM09o",
   "machine_shape": "hm",
   "provenance": []
  },
  "gpuClass": "standard",
  "kernelspec": {
   "display_name": "Python 3 (ipykernel)",
   "language": "python",
   "name": "python3"
  },
  "language_info": {
   "codemirror_mode": {
    "name": "ipython",
    "version": 3
   },
   "file_extension": ".py",
   "mimetype": "text/x-python",
   "name": "python",
   "nbconvert_exporter": "python",
   "pygments_lexer": "ipython3",
   "version": "3.8.15"
  }
 },
 "nbformat": 4,
 "nbformat_minor": 4
}
