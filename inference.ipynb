{
 "cells": [
  {
   "cell_type": "code",
   "execution_count": 16,
   "id": "57b849de-294f-45d6-8dd5-0e91a39e0c3d",
   "metadata": {},
   "outputs": [
    {
     "name": "stdout",
     "output_type": "stream",
     "text": [
      "skt_lr_2e_5_epochs_5_length_512  skt_lr_5e_5_epochs_4_length_512  test\ttest2\n"
     ]
    }
   ],
   "source": [
    "!ls model_save/skt/ko-gpt-trinity-1.2B-v0.5"
   ]
  },
  {
   "cell_type": "code",
   "execution_count": null,
   "id": "41299af5-904a-4848-8214-443a087f037a",
   "metadata": {},
   "outputs": [
    {
     "ename": "",
     "evalue": "",
     "output_type": "error",
     "traceback": [
      "\u001b[1;31mJupyter cannot be started. Error attempting to locate Jupyter: Running cells requires notebook package.\n",
      "\u001b[1;31mRun the following command to install 'jupyter and notebook' into the Python environment. \n",
      "\u001b[1;31mCommand: 'python -m pip install jupyter notebook -U\n",
      "\u001b[1;31mor\n",
      "\u001b[1;31mconda install jupyter notebook -U'\n",
      "\u001b[1;31mClick <a href='https://aka.ms/installJupyterForVSCode'>here</a> for more info."
     ]
    }
   ],
   "source": [
    "!python3 prediction.py --model_fn 'model_save' \\\n",
    "--pretrained_model_name skt/ko-gpt-trinity-1.2B-v0.5 \\\n",
    "--top_k 20 \\\n",
    "--top_p .85 \\\n",
    "--num_return_sequence 1 \\\n",
    "--temperature 2 \\\n",
    "--repetition_penalty 1.5 \\\n",
    "--prompt '서울역에 도착하자마자 발견한 것은 시위하는 사람들이었다.' \\\n",
    "--fine_tune \\\n",
    "--name skt_lr_2e_5_epochs_5_length_512 \\\n",
    "--max_length 200"
   ]
  },
  {
   "cell_type": "code",
   "execution_count": 10,
   "id": "872244c0-43d3-4874-8f08-e24da41430fe",
   "metadata": {},
   "outputs": [
    {
     "name": "stdout",
     "output_type": "stream",
     "text": [
      "모든 아이들은 자란다. 한 사람만 빼고. 그 아이만이 내가 된다. 나는 그렇게 어른이 되어 간다. 그리고 어느 시점이 되면 아이는 나로 인해 또 다른 나를 만나게 될 것이고 그때 다시 한번 마주할 나의 얼굴과 새로운 이름, 더 많이 만나게 되는 많은 만남들. 내 아이의 얼굴이 조금씩 변화한다. 그런 날이 오기를.. 지금보다 조금 덜 외로워지길 기도해본다. 우리 조금만 힘내요! 우리가 다 같이 함께 잘 해냈어요! 오늘도 화이의 웃는 얼굴을 볼 수 있기를 진심으로 바랍니다. 2021. 2. 16 오후 6시 53분, 씀 이 글은 저의 육아일기장에 썼던 글을 재편집 하여 게시하였습니다~ 부족한 글 읽느라 고생 많았어요, 앞으로도 열심히 올릴테니, 관심갖아주셔서 감사드립니다~~>-< (아래의 손가락 추천 꾸욱 눌러주세요.) [11년 6월 14일 밤 7시 59분] 1. 오늘의 날씨: 비가 부슬부슬 내렸다 곧 맑음이 올 듯 하지만 아직 흐리다 그럼에도 하늘이 예쁘다고 말해주었다 - 아침을\n"
     ]
    }
   ],
   "source": [
    "!python3 prediction.py --model_fn 'model_save' \\\n",
    "--pretrained_model_name skt/ko-gpt-trinity-1.2B-v0.5 \\\n",
    "--top_k 20 \\\n",
    "--top_p .85 \\\n",
    "--num_return_sequence 1 \\\n",
    "--temperature 2 \\\n",
    "--repetition_penalty 1.5 \\\n",
    "--prompt '모든 아이들은 자란다. 한 사람만 빼고.' \\\n",
    "--fine_tune \\\n",
    "--name test2 \\\n",
    "--max_length 200"
   ]
  },
  {
   "cell_type": "code",
   "execution_count": 2,
   "id": "3543d455-0709-45d9-801f-b1adcb35a71b",
   "metadata": {},
   "outputs": [
    {
     "name": "stdout",
     "output_type": "stream",
     "text": [
      "/root/anaconda3/envs/bkt/lib/python3.8/site-packages/pkg_resources/__init__.py:123: PkgResourcesDeprecationWarning: 0.996-ko-0.9.2 is an invalid version and will not be supported in a future release\n",
      "  warnings.warn(\n",
      "Traceback (most recent call last):\n",
      "  File \"prediction.py\", line 82, in <module>\n",
      "    main(config)\n",
      "  File \"prediction.py\", line 48, in main\n",
      "    model_config = torch.load(os.path.join(path, 'best_.pt'), map_location='cuda:0')['config']\n",
      "  File \"/root/anaconda3/envs/bkt/lib/python3.8/site-packages/torch/serialization.py\", line 771, in load\n",
      "    with _open_file_like(f, 'rb') as opened_file:\n",
      "  File \"/root/anaconda3/envs/bkt/lib/python3.8/site-packages/torch/serialization.py\", line 270, in _open_file_like\n",
      "    return _open_file(name_or_buffer, mode)\n",
      "  File \"/root/anaconda3/envs/bkt/lib/python3.8/site-packages/torch/serialization.py\", line 251, in __init__\n",
      "    super(_open_file, self).__init__(open(name, mode))\n",
      "FileNotFoundError: [Errno 2] No such file or directory: 'model_save/skt/ko-gpt-trinity-1.2B-v0.5/skt_lr_2e_5_epochs_5_length_512/best_.pt'\n"
     ]
    }
   ],
   "source": [
    "!python3 prediction.py --model_fn 'model_save' \\\n",
    "--pretrained_model_name skt/ko-gpt-trinity-1.2B-v0.5 \\\n",
    "--top_k 20 \\\n",
    "--top_p .85 \\\n",
    "--num_return_sequence 1 \\\n",
    "--temperature 2 \\\n",
    "--repetition_penalty 1.5 \\\n",
    "--prompt '서울역에 도착하자마자 발견한 것은 시위하는 사람들이었다.' \\\n",
    "--fine_tune \\\n",
    "--name skt_lr_2e_5_epochs_5_length_512 \\\n",
    "--max_length 200"
   ]
  },
  {
   "cell_type": "code",
   "execution_count": null,
   "id": "e516e864",
   "metadata": {},
   "outputs": [],
   "source": []
  }
 ],
 "metadata": {
  "kernelspec": {
   "display_name": "bkt",
   "language": "python",
   "name": "python3"
  },
  "language_info": {
   "codemirror_mode": {
    "name": "ipython",
    "version": 3
   },
   "file_extension": ".py",
   "mimetype": "text/x-python",
   "name": "python",
   "nbconvert_exporter": "python",
   "pygments_lexer": "ipython3",
   "version": "3.8.15"
  },
  "vscode": {
   "interpreter": {
    "hash": "39ec93b9529723a4f0d6067f60399a1c0688f3bd99d3e8bae4318326ace18adc"
   }
  }
 },
 "nbformat": 4,
 "nbformat_minor": 5
}
