{
 "cells": [
  {
   "cell_type": "code",
   "execution_count": 1,
   "metadata": {},
   "outputs": [
    {
     "name": "stdout",
     "output_type": "stream",
     "text": [
      "/root/anaconda3/envs/bkt/lib/python3.8/site-packages/pkg_resources/__init__.py:123: PkgResourcesDeprecationWarning: 0.996-ko-0.9.2 is an invalid version and will not be supported in a future release\n",
      "  warnings.warn(\n",
      "[Kss]: Oh! You have mecab in your environment. Kss will take this as a backend! :D\n",
      "\n",
      "==================================================\n",
      "서울역에 도착하자마자 발견한 것은 시위하는 사람들이었다.\n",
      "0th : 서울역 앞에서 만난 사람들의 얼굴은 대부분 밝고 활기차 보였다.\n",
      "1th : 기자수첩에 쓴 대로 그 사람들은 '민중'이었다.\n",
      "2th : 국토해양부 장관 사퇴하라!\n",
      "3th : 조선일보가 주최한 '민주화운동 관련자 명예회복 및 보상심의위원회'에서는 이들에 대한 보상을 결정했다.\n",
      "4th : 뙤약볕이 내리쬐는 오후, 그들은 '우리도 한 달 뒤에 저렇게 할 수 있다'는 듯 거리 곳곳에서 플래카드를 들고 있었다.\n",
      "select(100=reset_hyperparameter, 200=New_prompt, 300=Break, 400=reset_candidate, 500=drop_last) : ^C\n",
      "Traceback (most recent call last):\n",
      "  File \"active_prediction.py\", line 141, in <module>\n",
      "    main(config)\n",
      "  File \"active_prediction.py\", line 106, in main\n",
      "    command = int(input('select(100=reset_hyperparameter, 200=New_prompt, 300=Break, 400=reset_candidate, 500=drop_last) : '))\n",
      "KeyboardInterrupt\n"
     ]
    }
   ],
   "source": [
    "!python3 active_prediction.py --fine_tune --name 'skt_lr_2e_5_epochs_5_length_512' --additional_training --prompt '서울역에 도착하자마자 발견한 것은 시위하는 사람들이었다.'"
   ]
  },
  {
   "cell_type": "code",
   "execution_count": 2,
   "metadata": {},
   "outputs": [
    {
     "name": "stdout",
     "output_type": "stream",
     "text": [
      "/root/anaconda3/envs/bkt/lib/python3.8/site-packages/pkg_resources/__init__.py:123: PkgResourcesDeprecationWarning: 0.996-ko-0.9.2 is an invalid version and will not be supported in a future release\n",
      "  warnings.warn(\n",
      "[Kss]: Oh! You have mecab in your environment. Kss will take this as a backend! :D\n",
      "\n",
      "==================================================\n",
      "서울역에 도착하자마자 발견한 것은 시위하는 사람들이었다.\n",
      "뙤약볕이 내리쬐는 오후, 그들은 '우리도 한 달 뒤에 저렇게 할 수 있다'는 듯 거리 곳곳에서 플래카드를 들고 있었다.\n",
      "0th : \"일반인들도 자전거 타세요!\"\n",
      "1th :  \"실제 저걸 보니 너무 행복해요.\"\n",
      "2th : \"노래에 목숨 건다\" 가수들이 노래와 연주를 위해 몸을 사리지 않는 것은 당연지사.\n",
      "3th :  \"할아버지! 우리 손녀딸 보고 싶어요?\"\n",
      "4th :  \"요즘은 길거리에 있는 것들도 다 예술품이 되더라고요.\"\n",
      "5th : \"100만 촛불은 결코 꺼지지 않을 것입니다. 우리 모두 함께합시다. 우리가 다시 모일 때까지 이 길을 지켜주세요!\"\n",
      "6th :  \"광우병 위험 미국산 쇠고기 수입 반대\" c 오마이뉴스 이종호 이튿날인 6월 2일 오전 11시.\n",
      "7th :  지하철역 앞에서 만난 대학생들.\n",
      "8th :  c2005 오마이뉴스 남소연 \"평범한 시민들이 모여서 이렇게 많은 일을 하는구나.\"\n",
      "9th :  지난 13일 광화문광장에서 열린 박근혜 대통령 퇴진 촉구 4차 촛불집회 참가자들이 청와대 방향으로 행진을 하고 있다.\n",
      "select(100=reset_hyperparameter, 200=New_prompt, 300=Break, 400=reset_candidate, 500=drop_last) : ^C\n",
      "Traceback (most recent call last):\n",
      "  File \"active_prediction.py\", line 141, in <module>\n",
      "    main(config)\n",
      "  File \"active_prediction.py\", line 106, in main\n",
      "    command = int(input('select(100=reset_hyperparameter, 200=New_prompt, 300=Break, 400=reset_candidate, 500=drop_last) : '))\n",
      "KeyboardInterrupt\n"
     ]
    }
   ],
   "source": [
    "!python3 active_prediction.py --fine_tune --name 'skt_lr_2e_5_epochs_5_length_512' --additional_training --prompt \"서울역에 도착하자마자 발견한 것은 시위하는 사람들이었다. 뙤약볕이 내리쬐는 오후, 그들은 '우리도 한 달 뒤에 저렇게 할 수 있다'는 듯 거리 곳곳에서 플래카드를 들고 있었다.\""
   ]
  },
  {
   "cell_type": "code",
   "execution_count": 3,
   "metadata": {},
   "outputs": [
    {
     "name": "stdout",
     "output_type": "stream",
     "text": [
      "/root/anaconda3/envs/bkt/lib/python3.8/site-packages/pkg_resources/__init__.py:123: PkgResourcesDeprecationWarning: 0.996-ko-0.9.2 is an invalid version and will not be supported in a future release\n",
      "  warnings.warn(\n",
      "[Kss]: Oh! You have mecab in your environment. Kss will take this as a backend! :D\n",
      "\n",
      "==================================================\n",
      "서울역에 도착하자마자 발견한 것은 시위하는 사람들이었다.\n",
      "뙤약볕이 내리쬐는 오후, 그들은 '우리도 한 달 뒤에 저렇게 할 수 있다'는 듯 거리 곳곳에서 플래카드를 들고 있었다.\n",
      "100만 촛불은 결코 꺼지지 않을 것입니다.\n",
      "우리 모두 함께합시다.\n",
      "우리가 다시 모일 때까지 이 길을 지켜주세요!\n",
      "0th :  #기다려요_\n",
      "1th :   -------------------------------- ****** TO BE CONTINUED by ROSSIAN.\n",
      "2th : 아프간 피랍자 석방을 위한 기도문</d></d></d></d></d></d></d></d></d></d></d></d></d></d></d></d></d></d></d></d></d></d></d></d></d></d></d></d></d></d></d></d></d></d></d></d></d></d></d></d></d></d></d></d>\n",
      "3th : </d></d></d></d></d></d></d></d></d></d></d></d></d></d></d></d></d></d></d></d></d></d></d></d></d></d></d></d></d></d></d></d></d></d></d></d></d></d></d></d></d></d></d></d></d></d></d></d></d></d></d></d></d></d></d>\n",
      "4th :   [사랑의 열매] 사랑의열매는 나눔을 실천하는 사회공헌활동입니다.\n",
      "5th : 2007. 8. 1 - 서울신문</d></d></d></d></d></d></d></d></d></d></d></d></d></d></d></d></d></d></d></d></d></d></d></d></d></d></d></d></d></d></d></d></d></d></d></d></d></d></d></d></d></d></d></d></d></d></d></d></d></d></d></d></d></d></d>\n",
      "6th :  그 후로 20년이 흘렀다.\n",
      "7th : 우리들의 천국은 고레에다 히로카즈 감독이 연출한 영화다.\n",
      "8th :   [사랑의 실천] 사랑은...</d></d></d></d></d></d></d></d></d></d></d></d></d></d></d></d></d></d></d></d></d></d></d></d></d></d></d></d></d></d></d></d></d></d></d></d></d></d></d></d></d></d></d></d></d></d></d></d></d></d></d></d></d></d></d>\n",
      "9th :  2007년 12월 17일 저녁 7시, 여의도 국회 앞에서 열린 촛불집회.\n",
      "10th :  이명박 대통령 당선인  [출처] 새 정부 출범을 맞아 시민들께 드리는 글|작성자 kjh1020</d></d></d></d></d></d></d></d></d></d></d></d></d></d></d></d></d></d></d></d></d></d></d></d></d></d></d></d></d></d></d></d></d></d>\n",
      "11th :  2008. 3. 23 / '촛불' 주최측, 청계광장서 8차 범국민행동  --------------------------------  아고라에서는 이미 몇차례의 광우병 위험 미국산 쇠고기 반대 집회 이후 많은 시민들이 자발적으로 모여들고 있습니다.\n",
      "12th :  주최 : 민주노총, 민중총궐기 투쟁본부 - 일시: 2012년 2월 25일 오후 7시 30분부터 8시까지 (서울광장) * 본 집회 참석자 중 경찰 추산으로 약 6만명 정도 참가 예상.\n",
      "13th :  광우병국민대책회의 주최로 오후 7시부터 서울 청계광장에서 열린 '2차 범 국민촛불문화제' 참가자들이 2일 저녁 6시30분께 청와대 방향으로 행진을 하고 있다.\n",
      "14th :  오늘 우리는 한 마음으로 박근혜 대통령의 퇴진을 요구합니다.\n",
      "15th :  광우병 위험 미국산 쇠고기의 수입을 반대하는 국민대책회의가 지난달 30일 서울광장에서 주최한 집회에서 참가자들이 구호를 외치고 있다.\n",
      "16th :  c2006 오마이뉴스 권우성 6월 2일 저녁 7시 서울광장에서 열린 6.10항쟁 21주년 기념행사에서 대학생들이 시국선언을 발표하고 있다.\n",
      "17th : \"진짜 민주주의가 뭔 줄 아느냐?\"고 묻자 조승수 의원(왼쪽)이 대답하고 있다.\n",
      "18th :  \"대한민국의 주권은 국민에게 있고 모든 권력은 국민으로부터 나온다\".\n",
      "19th :  사진 : 김중만 기자</d></d></d></d></d></d></d></d></d></d></d></d></d></d></d></d></d></d></d></d></d></d></d></d></d></d></d></d></d></d></d></d></d></d></d></d></d></d></d></d></d></d></d></d></d></d></d></d></d></d></d></d></d></d></d></d></d>\n",
      "20th :  주최측 추산 1만여명(경찰추산 8천명)이 모인 지난 12일 저녁 7시30분께.\n",
      "21th :  광화문광장 - 시민 자유발언대/정세균 민주당 대표.\n",
      "22th :  지난 17일 저녁 7시경 청계광장에 모인 시민들이 \"경찰을 몰아내자\"며 구호를 외치고 있다.\n",
      "23th :  \"100만 국민이 함께하는 국민대행진, 끝까지 이어가겠습니다\"\n",
      "24th :  \"촛불로 물든 광화문, 이젠 좀 놓아주세요.\"\n",
      "select(100=reset_hyperparameter, 200=New_prompt, 300=Break, 400=reset_candidate, 500=drop_last) : ^C\n",
      "Traceback (most recent call last):\n",
      "  File \"active_prediction.py\", line 141, in <module>\n",
      "    main(config)\n",
      "  File \"active_prediction.py\", line 106, in main\n",
      "    command = int(input('select(100=reset_hyperparameter, 200=New_prompt, 300=Break, 400=reset_candidate, 500=drop_last) : '))\n",
      "KeyboardInterrupt\n"
     ]
    }
   ],
   "source": [
    "!python3 active_prediction.py --fine_tune --name 'skt_lr_2e_5_epochs_5_length_512' --additional_training --prompt \"서울역에 도착하자마자 발견한 것은 시위하는 사람들이었다. 뙤약볕이 내리쬐는 오후, 그들은 '우리도 한 달 뒤에 저렇게 할 수 있다'는 듯 거리 곳곳에서 플래카드를 들고 있었다. 100만 촛불은 결코 꺼지지 않을 것입니다. 우리 모두 함께합시다. 우리가 다시 모일 때까지 이 길을 지켜주세요!\""
   ]
  },
  {
   "cell_type": "code",
   "execution_count": null,
   "metadata": {},
   "outputs": [],
   "source": [
    "!python3 active_prediction.py --fine_tune --name 'skt_lr_2e_5_epochs_5_length_512' --additional_training --prompt \"서울역에 도착하자마자 발견한 것은 시위하는 사람들이었다. 뙤약볕이 내리쬐는 오후, 그들은 '우리도 한 달 뒤에 저렇게 할 수 있다'는 듯 거리 곳곳에서 플래카드를 들고 있었다. 100만 촛불은 결코 꺼지지 않을 것입니다. 우리 모두 함께합시다. 우리가 다시 모일 때까지 이 길을 지켜주세요! 광화문광장 - 시민 자유발언대/정세균 민주당 대표.\""
   ]
  }
 ],
 "metadata": {
  "kernelspec": {
   "display_name": "bkt",
   "language": "python",
   "name": "python3"
  },
  "language_info": {
   "codemirror_mode": {
    "name": "ipython",
    "version": 3
   },
   "file_extension": ".py",
   "mimetype": "text/x-python",
   "name": "python",
   "nbconvert_exporter": "python",
   "pygments_lexer": "ipython3",
   "version": "3.8.15"
  },
  "orig_nbformat": 4,
  "vscode": {
   "interpreter": {
    "hash": "39ec93b9529723a4f0d6067f60399a1c0688f3bd99d3e8bae4318326ace18adc"
   }
  }
 },
 "nbformat": 4,
 "nbformat_minor": 2
}
